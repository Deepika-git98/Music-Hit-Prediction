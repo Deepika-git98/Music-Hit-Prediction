{
  "nbformat": 4,
  "nbformat_minor": 0,
  "metadata": {
    "kernelspec": {
      "display_name": "Python 3",
      "language": "python",
      "name": "python3"
    },
    "language_info": {
      "codemirror_mode": {
        "name": "ipython",
        "version": 3
      },
      "file_extension": ".py",
      "mimetype": "text/x-python",
      "name": "python",
      "nbconvert_exporter": "python",
      "pygments_lexer": "ipython3",
      "version": "3.7.9"
    },
    "papermill": {
      "default_parameters": {},
      "duration": 126.172448,
      "end_time": "2021-02-07T18:27:23.897271",
      "environment_variables": {},
      "exception": null,
      "input_path": "__notebook__.ipynb",
      "output_path": "__notebook__.ipynb",
      "parameters": {},
      "start_time": "2021-02-07T18:25:17.724823",
      "version": "2.2.2"
    },
    "colab": {
      "provenance": [],
      "toc_visible": true,
      "include_colab_link": true
    }
  },
  "cells": [
    {
      "cell_type": "markdown",
      "metadata": {
        "id": "view-in-github",
        "colab_type": "text"
      },
      "source": [
        "<a href=\"https://colab.research.google.com/github/Deepika-git98/Music-Hit-Prediction/blob/main/music_hit_prediction.ipynb\" target=\"_parent\"><img src=\"https://colab.research.google.com/assets/colab-badge.svg\" alt=\"Open In Colab\"/></a>"
      ]
    },
    {
      "cell_type": "markdown",
      "metadata": {
        "papermill": {
          "duration": 0.011724,
          "end_time": "2021-02-07T18:25:23.863870",
          "exception": false,
          "start_time": "2021-02-07T18:25:23.852146",
          "status": "completed"
        },
        "tags": [],
        "id": "yMlrSEpCS8k5"
      },
      "source": [
        "\n",
        "## Hit prediction using Spotify dataset\n",
        "\n",
        "\n",
        "\n",
        "\n",
        "\n",
        "\n"
      ]
    },
    {
      "cell_type": "markdown",
      "metadata": {
        "papermill": {
          "duration": 0.010107,
          "end_time": "2021-02-07T18:25:23.885242",
          "exception": false,
          "start_time": "2021-02-07T18:25:23.875135",
          "status": "completed"
        },
        "tags": [],
        "id": "39DEyNwDS8lM"
      },
      "source": [
        "[link text](https://)# Getting Started"
      ]
    },
    {
      "cell_type": "code",
      "metadata": {
        "execution": {
          "iopub.execute_input": "2021-02-07T18:25:23.913187Z",
          "iopub.status.busy": "2021-02-07T18:25:23.912521Z",
          "iopub.status.idle": "2021-02-07T18:25:25.220675Z",
          "shell.execute_reply": "2021-02-07T18:25:25.219793Z"
        },
        "papermill": {
          "duration": 1.325086,
          "end_time": "2021-02-07T18:25:25.220886",
          "exception": false,
          "start_time": "2021-02-07T18:25:23.895800",
          "status": "completed"
        },
        "tags": [],
        "id": "5HtY97zTS8lN"
      },
      "source": [
        "import numpy as np\n",
        "import pandas as pd\n",
        "\n",
        "from sklearn.model_selection import train_test_split\n",
        "from sklearn.preprocessing import StandardScaler\n",
        "\n",
        "from sklearn.linear_model import LogisticRegression\n",
        "from sklearn.neighbors import KNeighborsClassifier\n",
        "from sklearn.tree import DecisionTreeClassifier\n",
        "from sklearn.svm import LinearSVC, SVC\n",
        "from sklearn.ensemble import RandomForestClassifier, GradientBoostingClassifier\n",
        "\n",
        "import warnings\n",
        "warnings.filterwarnings(action='ignore')"
      ],
      "execution_count": null,
      "outputs": []
    },
    {
      "cell_type": "markdown",
      "metadata": {
        "id": "G7q-kCNyTKKC"
      },
      "source": [
        "#GET DATASET"
      ]
    },
    {
      "cell_type": "code",
      "metadata": {
        "colab": {
          "base_uri": "https://localhost:8080/"
        },
        "id": "q-OUcJuHTJB8",
        "outputId": "a41030d3-04d8-49c8-d0f8-4075c7597033"
      },
      "source": [
        "from google.colab import drive\n",
        "drive.mount('/content/drive')"
      ],
      "execution_count": null,
      "outputs": [
        {
          "output_type": "stream",
          "text": [
            "Drive already mounted at /content/drive; to attempt to forcibly remount, call drive.mount(\"/content/drive\", force_remount=True).\n"
          ],
          "name": "stdout"
        }
      ]
    },
    {
      "cell_type": "code",
      "metadata": {
        "id": "D1MyT6XQTzV_"
      },
      "source": [
        "!cp /content/drive/MyDrive/archiv.zip /content/"
      ],
      "execution_count": null,
      "outputs": []
    },
    {
      "cell_type": "code",
      "metadata": {
        "colab": {
          "base_uri": "https://localhost:8080/"
        },
        "id": "8pqEcRVTT7kd",
        "outputId": "bf3d1459-b74d-48b9-cf00-d1123a3c1fb3"
      },
      "source": [
        "!unzip archiv"
      ],
      "execution_count": null,
      "outputs": [
        {
          "output_type": "stream",
          "text": [
            "Archive:  archiv.zip\n",
            "replace LICENSE? [y]es, [n]o, [A]ll, [N]one, [r]ename: Y\n",
            "  inflating: LICENSE                 \n",
            "replace README.txt? [y]es, [n]o, [A]ll, [N]one, [r]ename: Y\n",
            "  inflating: README.txt              \n",
            "replace dataset-of-00s.csv? [y]es, [n]o, [A]ll, [N]one, [r]ename: Y\n",
            "  inflating: dataset-of-00s.csv      \n",
            "replace dataset-of-10s.csv? [y]es, [n]o, [A]ll, [N]one, [r]ename: Y\n",
            "  inflating: dataset-of-10s.csv      \n",
            "replace dataset-of-60s.csv? [y]es, [n]o, [A]ll, [N]one, [r]ename: Y\n",
            "  inflating: dataset-of-60s.csv      \n",
            "replace dataset-of-70s.csv? [y]es, [n]o, [A]ll, [N]one, [r]ename: Y\n",
            "  inflating: dataset-of-70s.csv      \n",
            "replace dataset-of-80s.csv? [y]es, [n]o, [A]ll, [N]one, [r]ename: Y\n",
            "  inflating: dataset-of-80s.csv      \n",
            "replace dataset-of-90s.csv? [y]es, [n]o, [A]ll, [N]one, [r]ename: Y\n",
            "  inflating: dataset-of-90s.csv      \n"
          ],
          "name": "stdout"
        }
      ]
    },
    {
      "cell_type": "code",
      "metadata": {
        "execution": {
          "iopub.execute_input": "2021-02-07T18:25:25.248875Z",
          "iopub.status.busy": "2021-02-07T18:25:25.248223Z",
          "iopub.status.idle": "2021-02-07T18:25:25.751145Z",
          "shell.execute_reply": "2021-02-07T18:25:25.750403Z"
        },
        "papermill": {
          "duration": 0.519338,
          "end_time": "2021-02-07T18:25:25.751318",
          "exception": false,
          "start_time": "2021-02-07T18:25:25.231980",
          "status": "completed"
        },
        "tags": [],
        "id": "o72k42ksS8lO"
      },
      "source": [
        "dfs = [pd.read_csv(f'/content/dataset-of-{decade}0s.csv') for decade in ['6', '7', '8', '9', '0', '1']]"
      ],
      "execution_count": null,
      "outputs": []
    },
    {
      "cell_type": "code",
      "metadata": {
        "execution": {
          "iopub.execute_input": "2021-02-07T18:25:25.810241Z",
          "iopub.status.busy": "2021-02-07T18:25:25.803264Z",
          "iopub.status.idle": "2021-02-07T18:25:25.849513Z",
          "shell.execute_reply": "2021-02-07T18:25:25.848939Z"
        },
        "papermill": {
          "duration": 0.082367,
          "end_time": "2021-02-07T18:25:25.849687",
          "exception": false,
          "start_time": "2021-02-07T18:25:25.767320",
          "status": "completed"
        },
        "tags": [],
        "id": "ApawNPnxS8lP"
      },
      "source": [
        "for i, decade in enumerate([1960, 1970, 1980, 1990, 2000, 2010]):\n",
        "    dfs[i]['decade'] = pd.Series(decade, index=dfs[i].index)\n",
        "\n",
        "data = pd.concat(dfs, axis=0).sample(frac=1.0, random_state=1).reset_index(drop=True)"
      ],
      "execution_count": null,
      "outputs": []
    },
    {
      "cell_type": "code",
      "metadata": {
        "execution": {
          "iopub.execute_input": "2021-02-07T18:25:25.882517Z",
          "iopub.status.busy": "2021-02-07T18:25:25.881646Z",
          "iopub.status.idle": "2021-02-07T18:25:25.919361Z",
          "shell.execute_reply": "2021-02-07T18:25:25.920058Z"
        },
        "papermill": {
          "duration": 0.059889,
          "end_time": "2021-02-07T18:25:25.920283",
          "exception": false,
          "start_time": "2021-02-07T18:25:25.860394",
          "status": "completed"
        },
        "tags": [],
        "colab": {
          "base_uri": "https://localhost:8080/",
          "height": 394
        },
        "id": "huEdgjCKS8lP",
        "outputId": "553f70b6-d195-4e9c-9bdd-a011ca8afdcb"
      },
      "source": [
        "data.head()"
      ],
      "execution_count": null,
      "outputs": [
        {
          "output_type": "execute_result",
          "data": {
            "text/html": [
              "<div>\n",
              "<style scoped>\n",
              "    .dataframe tbody tr th:only-of-type {\n",
              "        vertical-align: middle;\n",
              "    }\n",
              "\n",
              "    .dataframe tbody tr th {\n",
              "        vertical-align: top;\n",
              "    }\n",
              "\n",
              "    .dataframe thead th {\n",
              "        text-align: right;\n",
              "    }\n",
              "</style>\n",
              "<table border=\"1\" class=\"dataframe\">\n",
              "  <thead>\n",
              "    <tr style=\"text-align: right;\">\n",
              "      <th></th>\n",
              "      <th>track</th>\n",
              "      <th>artist</th>\n",
              "      <th>uri</th>\n",
              "      <th>danceability</th>\n",
              "      <th>energy</th>\n",
              "      <th>key</th>\n",
              "      <th>loudness</th>\n",
              "      <th>mode</th>\n",
              "      <th>speechiness</th>\n",
              "      <th>acousticness</th>\n",
              "      <th>instrumentalness</th>\n",
              "      <th>liveness</th>\n",
              "      <th>valence</th>\n",
              "      <th>tempo</th>\n",
              "      <th>duration_ms</th>\n",
              "      <th>time_signature</th>\n",
              "      <th>chorus_hit</th>\n",
              "      <th>sections</th>\n",
              "      <th>target</th>\n",
              "      <th>decade</th>\n",
              "    </tr>\n",
              "  </thead>\n",
              "  <tbody>\n",
              "    <tr>\n",
              "      <th>0</th>\n",
              "      <td>Attaining - Take 1 / Alternate Version</td>\n",
              "      <td>John Coltrane</td>\n",
              "      <td>spotify:track:3EwLV5hZqLKx5e0Lp1QcB7</td>\n",
              "      <td>0.342</td>\n",
              "      <td>0.462</td>\n",
              "      <td>4</td>\n",
              "      <td>-12.931</td>\n",
              "      <td>0</td>\n",
              "      <td>0.0389</td>\n",
              "      <td>0.51400</td>\n",
              "      <td>0.018100</td>\n",
              "      <td>0.0977</td>\n",
              "      <td>0.397</td>\n",
              "      <td>98.466</td>\n",
              "      <td>816867</td>\n",
              "      <td>4</td>\n",
              "      <td>24.84938</td>\n",
              "      <td>33</td>\n",
              "      <td>0</td>\n",
              "      <td>1970</td>\n",
              "    </tr>\n",
              "    <tr>\n",
              "      <th>1</th>\n",
              "      <td>So Fly</td>\n",
              "      <td>NB Ridaz Featuring Gemini</td>\n",
              "      <td>spotify:track:2BjIi07kN0yKSur0Fwrnss</td>\n",
              "      <td>0.861</td>\n",
              "      <td>0.519</td>\n",
              "      <td>2</td>\n",
              "      <td>-6.404</td>\n",
              "      <td>1</td>\n",
              "      <td>0.1120</td>\n",
              "      <td>0.13600</td>\n",
              "      <td>0.000000</td>\n",
              "      <td>0.1230</td>\n",
              "      <td>0.519</td>\n",
              "      <td>81.966</td>\n",
              "      <td>254533</td>\n",
              "      <td>4</td>\n",
              "      <td>50.03590</td>\n",
              "      <td>11</td>\n",
              "      <td>1</td>\n",
              "      <td>2000</td>\n",
              "    </tr>\n",
              "    <tr>\n",
              "      <th>2</th>\n",
              "      <td>Because I Got It Like That</td>\n",
              "      <td>Jungle Brothers</td>\n",
              "      <td>spotify:track:5unLExF3iiG3YkU11u6wFO</td>\n",
              "      <td>0.900</td>\n",
              "      <td>0.916</td>\n",
              "      <td>1</td>\n",
              "      <td>-7.481</td>\n",
              "      <td>0</td>\n",
              "      <td>0.1150</td>\n",
              "      <td>0.22000</td>\n",
              "      <td>0.000141</td>\n",
              "      <td>0.0323</td>\n",
              "      <td>0.538</td>\n",
              "      <td>102.916</td>\n",
              "      <td>277894</td>\n",
              "      <td>4</td>\n",
              "      <td>24.71271</td>\n",
              "      <td>16</td>\n",
              "      <td>0</td>\n",
              "      <td>1980</td>\n",
              "    </tr>\n",
              "    <tr>\n",
              "      <th>3</th>\n",
              "      <td>Babylon a Fall - Remastered</td>\n",
              "      <td>Yabby You</td>\n",
              "      <td>spotify:track:6xfe0G2HwRDQaChxkzvNKw</td>\n",
              "      <td>0.714</td>\n",
              "      <td>0.301</td>\n",
              "      <td>2</td>\n",
              "      <td>-14.800</td>\n",
              "      <td>1</td>\n",
              "      <td>0.1230</td>\n",
              "      <td>0.15600</td>\n",
              "      <td>0.661000</td>\n",
              "      <td>0.2290</td>\n",
              "      <td>0.651</td>\n",
              "      <td>74.856</td>\n",
              "      <td>357671</td>\n",
              "      <td>4</td>\n",
              "      <td>104.64231</td>\n",
              "      <td>11</td>\n",
              "      <td>0</td>\n",
              "      <td>1970</td>\n",
              "    </tr>\n",
              "    <tr>\n",
              "      <th>4</th>\n",
              "      <td>Fins</td>\n",
              "      <td>Jimmy Buffett</td>\n",
              "      <td>spotify:track:4h0gZ422QxBRdTV14u0P8y</td>\n",
              "      <td>0.661</td>\n",
              "      <td>0.645</td>\n",
              "      <td>4</td>\n",
              "      <td>-13.520</td>\n",
              "      <td>1</td>\n",
              "      <td>0.0487</td>\n",
              "      <td>0.00895</td>\n",
              "      <td>0.000000</td>\n",
              "      <td>0.0362</td>\n",
              "      <td>0.930</td>\n",
              "      <td>136.693</td>\n",
              "      <td>204640</td>\n",
              "      <td>4</td>\n",
              "      <td>31.99617</td>\n",
              "      <td>10</td>\n",
              "      <td>1</td>\n",
              "      <td>1970</td>\n",
              "    </tr>\n",
              "  </tbody>\n",
              "</table>\n",
              "</div>"
            ],
            "text/plain": [
              "                                    track  ... decade\n",
              "0  Attaining - Take 1 / Alternate Version  ...   1970\n",
              "1                                  So Fly  ...   2000\n",
              "2              Because I Got It Like That  ...   1980\n",
              "3             Babylon a Fall - Remastered  ...   1970\n",
              "4                                    Fins  ...   1970\n",
              "\n",
              "[5 rows x 20 columns]"
            ]
          },
          "metadata": {
            "tags": []
          },
          "execution_count": 28
        }
      ]
    },
    {
      "cell_type": "code",
      "metadata": {
        "execution": {
          "iopub.execute_input": "2021-02-07T18:25:25.962064Z",
          "iopub.status.busy": "2021-02-07T18:25:25.961326Z",
          "iopub.status.idle": "2021-02-07T18:25:25.998401Z",
          "shell.execute_reply": "2021-02-07T18:25:25.997855Z"
        },
        "papermill": {
          "duration": 0.059979,
          "end_time": "2021-02-07T18:25:25.998537",
          "exception": false,
          "start_time": "2021-02-07T18:25:25.938558",
          "status": "completed"
        },
        "tags": [],
        "colab": {
          "base_uri": "https://localhost:8080/"
        },
        "id": "kjvatexhS8lR",
        "outputId": "72e03488-6e2c-4408-f530-e3cc728c59b3"
      },
      "source": [
        "data.info()"
      ],
      "execution_count": null,
      "outputs": [
        {
          "output_type": "stream",
          "text": [
            "<class 'pandas.core.frame.DataFrame'>\n",
            "RangeIndex: 41106 entries, 0 to 41105\n",
            "Data columns (total 20 columns):\n",
            " #   Column            Non-Null Count  Dtype  \n",
            "---  ------            --------------  -----  \n",
            " 0   track             41106 non-null  object \n",
            " 1   artist            41106 non-null  object \n",
            " 2   uri               41106 non-null  object \n",
            " 3   danceability      41106 non-null  float64\n",
            " 4   energy            41106 non-null  float64\n",
            " 5   key               41106 non-null  int64  \n",
            " 6   loudness          41106 non-null  float64\n",
            " 7   mode              41106 non-null  int64  \n",
            " 8   speechiness       41106 non-null  float64\n",
            " 9   acousticness      41106 non-null  float64\n",
            " 10  instrumentalness  41106 non-null  float64\n",
            " 11  liveness          41106 non-null  float64\n",
            " 12  valence           41106 non-null  float64\n",
            " 13  tempo             41106 non-null  float64\n",
            " 14  duration_ms       41106 non-null  int64  \n",
            " 15  time_signature    41106 non-null  int64  \n",
            " 16  chorus_hit        41106 non-null  float64\n",
            " 17  sections          41106 non-null  int64  \n",
            " 18  target            41106 non-null  int64  \n",
            " 19  decade            41106 non-null  int64  \n",
            "dtypes: float64(10), int64(7), object(3)\n",
            "memory usage: 6.3+ MB\n"
          ],
          "name": "stdout"
        }
      ]
    },
    {
      "cell_type": "markdown",
      "metadata": {
        "papermill": {
          "duration": 0.012226,
          "end_time": "2021-02-07T18:25:26.023651",
          "exception": false,
          "start_time": "2021-02-07T18:25:26.011425",
          "status": "completed"
        },
        "tags": [],
        "id": "f7vDXPyHS8lS"
      },
      "source": [
        "# Preprocessing"
      ]
    },
    {
      "cell_type": "code",
      "metadata": {
        "execution": {
          "iopub.execute_input": "2021-02-07T18:25:26.060533Z",
          "iopub.status.busy": "2021-02-07T18:25:26.059712Z",
          "iopub.status.idle": "2021-02-07T18:25:26.062976Z",
          "shell.execute_reply": "2021-02-07T18:25:26.062154Z"
        },
        "papermill": {
          "duration": 0.027277,
          "end_time": "2021-02-07T18:25:26.063141",
          "exception": false,
          "start_time": "2021-02-07T18:25:26.035864",
          "status": "completed"
        },
        "tags": [],
        "id": "PjHzNiCqS8lS"
      },
      "source": [
        "def preprocess_inputs(df):\n",
        "    df = df.copy()\n",
        "\n",
        "    # Drop high-cardinality categorical columns\n",
        "    df = df.drop(['track', 'artist', 'uri'], axis=1)\n",
        "\n",
        "    # Split df into X and y\n",
        "    y = df['target']\n",
        "    X = df.drop('target', axis=1)\n",
        "\n",
        "    # Train-test split\n",
        "    X_train, X_test, y_train, y_test = train_test_split(X, y, train_size=0.7, shuffle=True, random_state=1)\n",
        "\n",
        "    # Scale X\n",
        "    scaler = StandardScaler()\n",
        "    scaler.fit(X_train)\n",
        "    X_train = pd.DataFrame(scaler.transform(X_train), index=X_train.index, columns=X_train.columns)\n",
        "    X_test = pd.DataFrame(scaler.transform(X_test), index=X_test.index, columns=X_test.columns)\n",
        "\n",
        "    return X_train, X_test, y_train, y_test"
      ],
      "execution_count": null,
      "outputs": []
    },
    {
      "cell_type": "code",
      "metadata": {
        "execution": {
          "iopub.execute_input": "2021-02-07T18:25:26.106685Z",
          "iopub.status.busy": "2021-02-07T18:25:26.105886Z",
          "iopub.status.idle": "2021-02-07T18:25:26.151114Z",
          "shell.execute_reply": "2021-02-07T18:25:26.150512Z"
        },
        "papermill": {
          "duration": 0.069267,
          "end_time": "2021-02-07T18:25:26.151257",
          "exception": false,
          "start_time": "2021-02-07T18:25:26.081990",
          "status": "completed"
        },
        "tags": [],
        "id": "Xjr1sXziS8lT"
      },
      "source": [
        "X_train, X_test, y_train, y_test = preprocess_inputs(data)"
      ],
      "execution_count": null,
      "outputs": []
    },
    {
      "cell_type": "code",
      "metadata": {
        "execution": {
          "iopub.execute_input": "2021-02-07T18:25:26.191510Z",
          "iopub.status.busy": "2021-02-07T18:25:26.188809Z",
          "iopub.status.idle": "2021-02-07T18:25:26.212423Z",
          "shell.execute_reply": "2021-02-07T18:25:26.211758Z"
        },
        "papermill": {
          "duration": 0.048351,
          "end_time": "2021-02-07T18:25:26.212609",
          "exception": false,
          "start_time": "2021-02-07T18:25:26.164258",
          "status": "completed"
        },
        "tags": [],
        "colab": {
          "base_uri": "https://localhost:8080/",
          "height": 439
        },
        "id": "N9NVFe8CS8lU",
        "outputId": "6df5cfd9-1401-4574-9518-d875dc6c4036"
      },
      "source": [
        "X_train"
      ],
      "execution_count": null,
      "outputs": [
        {
          "output_type": "execute_result",
          "data": {
            "text/html": [
              "<div>\n",
              "<style scoped>\n",
              "    .dataframe tbody tr th:only-of-type {\n",
              "        vertical-align: middle;\n",
              "    }\n",
              "\n",
              "    .dataframe tbody tr th {\n",
              "        vertical-align: top;\n",
              "    }\n",
              "\n",
              "    .dataframe thead th {\n",
              "        text-align: right;\n",
              "    }\n",
              "</style>\n",
              "<table border=\"1\" class=\"dataframe\">\n",
              "  <thead>\n",
              "    <tr style=\"text-align: right;\">\n",
              "      <th></th>\n",
              "      <th>danceability</th>\n",
              "      <th>energy</th>\n",
              "      <th>key</th>\n",
              "      <th>loudness</th>\n",
              "      <th>mode</th>\n",
              "      <th>speechiness</th>\n",
              "      <th>acousticness</th>\n",
              "      <th>instrumentalness</th>\n",
              "      <th>liveness</th>\n",
              "      <th>valence</th>\n",
              "      <th>tempo</th>\n",
              "      <th>duration_ms</th>\n",
              "      <th>time_signature</th>\n",
              "      <th>chorus_hit</th>\n",
              "      <th>sections</th>\n",
              "      <th>decade</th>\n",
              "    </tr>\n",
              "  </thead>\n",
              "  <tbody>\n",
              "    <tr>\n",
              "      <th>17085</th>\n",
              "      <td>-0.803046</td>\n",
              "      <td>-1.153602</td>\n",
              "      <td>-0.906748</td>\n",
              "      <td>-1.115340</td>\n",
              "      <td>0.663974</td>\n",
              "      <td>-0.469839</td>\n",
              "      <td>1.596027</td>\n",
              "      <td>2.353303</td>\n",
              "      <td>-0.732449</td>\n",
              "      <td>-0.558102</td>\n",
              "      <td>0.596289</td>\n",
              "      <td>0.893514</td>\n",
              "      <td>0.252505</td>\n",
              "      <td>-0.113837</td>\n",
              "      <td>1.143941</td>\n",
              "      <td>-0.730326</td>\n",
              "    </tr>\n",
              "    <tr>\n",
              "      <th>5559</th>\n",
              "      <td>-1.851264</td>\n",
              "      <td>1.471369</td>\n",
              "      <td>0.226205</td>\n",
              "      <td>1.141128</td>\n",
              "      <td>-1.506083</td>\n",
              "      <td>0.289985</td>\n",
              "      <td>-0.869966</td>\n",
              "      <td>-0.413850</td>\n",
              "      <td>0.358139</td>\n",
              "      <td>-0.546842</td>\n",
              "      <td>0.305511</td>\n",
              "      <td>-0.402735</td>\n",
              "      <td>0.252505</td>\n",
              "      <td>2.363926</td>\n",
              "      <td>-1.129718</td>\n",
              "      <td>-0.159019</td>\n",
              "    </tr>\n",
              "    <tr>\n",
              "      <th>32888</th>\n",
              "      <td>-0.216946</td>\n",
              "      <td>0.964588</td>\n",
              "      <td>-1.473224</td>\n",
              "      <td>0.842092</td>\n",
              "      <td>0.663974</td>\n",
              "      <td>-0.398312</td>\n",
              "      <td>0.227342</td>\n",
              "      <td>-0.509835</td>\n",
              "      <td>1.320937</td>\n",
              "      <td>1.010682</td>\n",
              "      <td>1.219771</td>\n",
              "      <td>0.261257</td>\n",
              "      <td>0.252505</td>\n",
              "      <td>-0.828083</td>\n",
              "      <td>0.523852</td>\n",
              "      <td>-0.159019</td>\n",
              "    </tr>\n",
              "    <tr>\n",
              "      <th>14170</th>\n",
              "      <td>-1.158088</td>\n",
              "      <td>1.471369</td>\n",
              "      <td>-0.340272</td>\n",
              "      <td>0.740650</td>\n",
              "      <td>-1.506083</td>\n",
              "      <td>-0.145038</td>\n",
              "      <td>-1.073492</td>\n",
              "      <td>0.351407</td>\n",
              "      <td>0.486512</td>\n",
              "      <td>-0.122745</td>\n",
              "      <td>-0.771205</td>\n",
              "      <td>0.672481</td>\n",
              "      <td>0.252505</td>\n",
              "      <td>1.298114</td>\n",
              "      <td>0.937245</td>\n",
              "      <td>0.983596</td>\n",
              "    </tr>\n",
              "    <tr>\n",
              "      <th>7958</th>\n",
              "      <td>0.656568</td>\n",
              "      <td>-1.264461</td>\n",
              "      <td>-1.473224</td>\n",
              "      <td>0.218706</td>\n",
              "      <td>0.663974</td>\n",
              "      <td>-0.521432</td>\n",
              "      <td>0.560664</td>\n",
              "      <td>-0.509835</td>\n",
              "      <td>-0.318737</td>\n",
              "      <td>-1.015976</td>\n",
              "      <td>-1.251805</td>\n",
              "      <td>-0.672715</td>\n",
              "      <td>0.252505</td>\n",
              "      <td>-0.553131</td>\n",
              "      <td>-0.716326</td>\n",
              "      <td>-0.730326</td>\n",
              "    </tr>\n",
              "    <tr>\n",
              "      <th>...</th>\n",
              "      <td>...</td>\n",
              "      <td>...</td>\n",
              "      <td>...</td>\n",
              "      <td>...</td>\n",
              "      <td>...</td>\n",
              "      <td>...</td>\n",
              "      <td>...</td>\n",
              "      <td>...</td>\n",
              "      <td>...</td>\n",
              "      <td>...</td>\n",
              "      <td>...</td>\n",
              "      <td>...</td>\n",
              "      <td>...</td>\n",
              "      <td>...</td>\n",
              "      <td>...</td>\n",
              "      <td>...</td>\n",
              "    </tr>\n",
              "    <tr>\n",
              "      <th>7813</th>\n",
              "      <td>1.067965</td>\n",
              "      <td>1.621820</td>\n",
              "      <td>1.075919</td>\n",
              "      <td>1.057254</td>\n",
              "      <td>-1.506083</td>\n",
              "      <td>-0.276365</td>\n",
              "      <td>-1.043411</td>\n",
              "      <td>-0.509689</td>\n",
              "      <td>1.414299</td>\n",
              "      <td>1.119521</td>\n",
              "      <td>0.240131</td>\n",
              "      <td>0.998506</td>\n",
              "      <td>0.252505</td>\n",
              "      <td>-1.142409</td>\n",
              "      <td>1.143941</td>\n",
              "      <td>-0.159019</td>\n",
              "    </tr>\n",
              "    <tr>\n",
              "      <th>32511</th>\n",
              "      <td>-1.242621</td>\n",
              "      <td>0.588460</td>\n",
              "      <td>-0.906748</td>\n",
              "      <td>-0.133035</td>\n",
              "      <td>-1.506083</td>\n",
              "      <td>1.072087</td>\n",
              "      <td>-0.215121</td>\n",
              "      <td>-0.509818</td>\n",
              "      <td>-0.132013</td>\n",
              "      <td>-0.381707</td>\n",
              "      <td>1.932499</td>\n",
              "      <td>1.910169</td>\n",
              "      <td>0.252505</td>\n",
              "      <td>1.016528</td>\n",
              "      <td>0.937245</td>\n",
              "      <td>-0.730326</td>\n",
              "    </tr>\n",
              "    <tr>\n",
              "      <th>5192</th>\n",
              "      <td>-0.819953</td>\n",
              "      <td>-1.169439</td>\n",
              "      <td>1.642396</td>\n",
              "      <td>-1.394164</td>\n",
              "      <td>-1.506083</td>\n",
              "      <td>-0.448733</td>\n",
              "      <td>-0.241669</td>\n",
              "      <td>-0.509831</td>\n",
              "      <td>0.072217</td>\n",
              "      <td>-0.081462</td>\n",
              "      <td>-0.841564</td>\n",
              "      <td>-0.668891</td>\n",
              "      <td>0.252505</td>\n",
              "      <td>-0.313843</td>\n",
              "      <td>-0.509629</td>\n",
              "      <td>0.412289</td>\n",
              "    </tr>\n",
              "    <tr>\n",
              "      <th>12172</th>\n",
              "      <td>0.194451</td>\n",
              "      <td>1.352592</td>\n",
              "      <td>-1.473224</td>\n",
              "      <td>0.843036</td>\n",
              "      <td>-1.506083</td>\n",
              "      <td>-0.035989</td>\n",
              "      <td>-1.068867</td>\n",
              "      <td>1.051577</td>\n",
              "      <td>2.733040</td>\n",
              "      <td>-1.068519</td>\n",
              "      <td>0.086466</td>\n",
              "      <td>0.696900</td>\n",
              "      <td>0.252505</td>\n",
              "      <td>-0.347148</td>\n",
              "      <td>-0.923022</td>\n",
              "      <td>0.983596</td>\n",
              "    </tr>\n",
              "    <tr>\n",
              "      <th>33003</th>\n",
              "      <td>0.318434</td>\n",
              "      <td>-0.452818</td>\n",
              "      <td>1.075919</td>\n",
              "      <td>0.320903</td>\n",
              "      <td>0.663974</td>\n",
              "      <td>-0.554264</td>\n",
              "      <td>0.062156</td>\n",
              "      <td>-0.509835</td>\n",
              "      <td>-0.552143</td>\n",
              "      <td>-1.503875</td>\n",
              "      <td>-1.595498</td>\n",
              "      <td>-0.075352</td>\n",
              "      <td>0.252505</td>\n",
              "      <td>0.704600</td>\n",
              "      <td>-0.509629</td>\n",
              "      <td>0.983596</td>\n",
              "    </tr>\n",
              "  </tbody>\n",
              "</table>\n",
              "<p>28774 rows × 16 columns</p>\n",
              "</div>"
            ],
            "text/plain": [
              "       danceability    energy       key  ...  chorus_hit  sections    decade\n",
              "17085     -0.803046 -1.153602 -0.906748  ...   -0.113837  1.143941 -0.730326\n",
              "5559      -1.851264  1.471369  0.226205  ...    2.363926 -1.129718 -0.159019\n",
              "32888     -0.216946  0.964588 -1.473224  ...   -0.828083  0.523852 -0.159019\n",
              "14170     -1.158088  1.471369 -0.340272  ...    1.298114  0.937245  0.983596\n",
              "7958       0.656568 -1.264461 -1.473224  ...   -0.553131 -0.716326 -0.730326\n",
              "...             ...       ...       ...  ...         ...       ...       ...\n",
              "7813       1.067965  1.621820  1.075919  ...   -1.142409  1.143941 -0.159019\n",
              "32511     -1.242621  0.588460 -0.906748  ...    1.016528  0.937245 -0.730326\n",
              "5192      -0.819953 -1.169439  1.642396  ...   -0.313843 -0.509629  0.412289\n",
              "12172      0.194451  1.352592 -1.473224  ...   -0.347148 -0.923022  0.983596\n",
              "33003      0.318434 -0.452818  1.075919  ...    0.704600 -0.509629  0.983596\n",
              "\n",
              "[28774 rows x 16 columns]"
            ]
          },
          "metadata": {
            "tags": []
          },
          "execution_count": 32
        }
      ]
    },
    {
      "cell_type": "code",
      "metadata": {
        "execution": {
          "iopub.execute_input": "2021-02-07T18:25:26.247505Z",
          "iopub.status.busy": "2021-02-07T18:25:26.246649Z",
          "iopub.status.idle": "2021-02-07T18:25:26.252288Z",
          "shell.execute_reply": "2021-02-07T18:25:26.252794Z"
        },
        "papermill": {
          "duration": 0.026639,
          "end_time": "2021-02-07T18:25:26.252967",
          "exception": false,
          "start_time": "2021-02-07T18:25:26.226328",
          "status": "completed"
        },
        "tags": [],
        "colab": {
          "base_uri": "https://localhost:8080/"
        },
        "id": "V8YXOCpiS8lU",
        "outputId": "35dc6406-4c14-4c6e-b0a4-f683e398c859"
      },
      "source": [
        "y_train"
      ],
      "execution_count": null,
      "outputs": [
        {
          "output_type": "execute_result",
          "data": {
            "text/plain": [
              "17085    0\n",
              "5559     0\n",
              "32888    0\n",
              "14170    0\n",
              "7958     1\n",
              "        ..\n",
              "7813     1\n",
              "32511    0\n",
              "5192     0\n",
              "12172    0\n",
              "33003    1\n",
              "Name: target, Length: 28774, dtype: int64"
            ]
          },
          "metadata": {
            "tags": []
          },
          "execution_count": 33
        }
      ]
    },
    {
      "cell_type": "markdown",
      "metadata": {
        "papermill": {
          "duration": 0.013842,
          "end_time": "2021-02-07T18:25:26.281747",
          "exception": false,
          "start_time": "2021-02-07T18:25:26.267905",
          "status": "completed"
        },
        "tags": [],
        "id": "jadPPHY9S8lV"
      },
      "source": [
        "# Training"
      ]
    },
    {
      "cell_type": "code",
      "metadata": {
        "execution": {
          "iopub.execute_input": "2021-02-07T18:25:26.319793Z",
          "iopub.status.busy": "2021-02-07T18:25:26.317976Z",
          "iopub.status.idle": "2021-02-07T18:27:06.184078Z",
          "shell.execute_reply": "2021-02-07T18:27:06.184645Z"
        },
        "papermill": {
          "duration": 99.888853,
          "end_time": "2021-02-07T18:27:06.184827",
          "exception": false,
          "start_time": "2021-02-07T18:25:26.295974",
          "status": "completed"
        },
        "tags": [],
        "colab": {
          "base_uri": "https://localhost:8080/"
        },
        "id": "6c-LwtV0S8lV",
        "outputId": "34b9dab9-d56a-4dca-82ce-ed0c4bf9177d"
      },
      "source": [
        "models = {\n",
        "    \"                   Logistic Regression\": LogisticRegression(),\n",
        "    \"                   K-Nearest Neighbors\": KNeighborsClassifier(),\n",
        "    \"                         Decision Tree\": DecisionTreeClassifier(),\n",
        "    \"Support Vector Machine (Linear Kernel)\": LinearSVC(),\n",
        "    \"   Support Vector Machine (RBF Kernel)\": SVC(),\n",
        "    \"                         Random Forest\": RandomForestClassifier(),\n",
        "    \"                     Gradient Boosting\": GradientBoostingClassifier()\n",
        "}\n",
        "\n",
        "for name, model in models.items():\n",
        "    model.fit(X_train, y_train)\n",
        "    print(name + \" trained.\")"
      ],
      "execution_count": null,
      "outputs": [
        {
          "output_type": "stream",
          "text": [
            "                   Logistic Regression trained.\n",
            "                   K-Nearest Neighbors trained.\n",
            "                         Decision Tree trained.\n",
            "Support Vector Machine (Linear Kernel) trained.\n",
            "   Support Vector Machine (RBF Kernel) trained.\n",
            "                         Random Forest trained.\n",
            "                     Gradient Boosting trained.\n"
          ],
          "name": "stdout"
        }
      ]
    },
    {
      "cell_type": "markdown",
      "metadata": {
        "papermill": {
          "duration": 0.015824,
          "end_time": "2021-02-07T18:27:06.218006",
          "exception": false,
          "start_time": "2021-02-07T18:27:06.202182",
          "status": "completed"
        },
        "tags": [],
        "id": "o51iHXulS8lW"
      },
      "source": [
        "# Results"
      ]
    },
    {
      "cell_type": "code",
      "metadata": {
        "execution": {
          "iopub.execute_input": "2021-02-07T18:27:06.258909Z",
          "iopub.status.busy": "2021-02-07T18:27:06.258194Z",
          "iopub.status.idle": "2021-02-07T18:27:23.028034Z",
          "shell.execute_reply": "2021-02-07T18:27:23.028698Z"
        },
        "papermill": {
          "duration": 16.79474,
          "end_time": "2021-02-07T18:27:23.028939",
          "exception": false,
          "start_time": "2021-02-07T18:27:06.234199",
          "status": "completed"
        },
        "tags": [],
        "colab": {
          "base_uri": "https://localhost:8080/"
        },
        "id": "zKUMrAqZS8lW",
        "outputId": "5f20cdb1-3cef-49c8-a314-01feca3f4b24"
      },
      "source": [
        "for name, model in models.items():\n",
        "    print(name + \": {:.2f}%\".format(model.score(X_test, y_test) * 100))"
      ],
      "execution_count": null,
      "outputs": [
        {
          "output_type": "stream",
          "text": [
            "                   Logistic Regression: 74.50%\n",
            "                   K-Nearest Neighbors: 75.27%\n",
            "                         Decision Tree: 72.49%\n",
            "Support Vector Machine (Linear Kernel): 74.25%\n",
            "   Support Vector Machine (RBF Kernel): 80.32%\n",
            "                         Random Forest: 81.01%\n",
            "                     Gradient Boosting: 79.87%\n"
          ],
          "name": "stdout"
        }
      ]
    },
    {
      "cell_type": "code",
      "metadata": {
        "id": "rluclzdnY10T"
      },
      "source": [],
      "execution_count": null,
      "outputs": []
    }
  ]
}